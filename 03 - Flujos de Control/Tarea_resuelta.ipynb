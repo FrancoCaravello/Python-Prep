{
 "cells": [
  {
   "cell_type": "markdown",
   "metadata": {},
   "source": [
    "1) Crear una variable que contenga un elemento del conjunto de números enteros y luego imprimir por pantalla si es mayor o menor a cero"
   ]
  },
  {
   "cell_type": "code",
   "execution_count": 5,
   "metadata": {},
   "outputs": [
    {
     "name": "stdout",
     "output_type": "stream",
     "text": [
      "El número es mayor a 0\n",
      "fin\n"
     ]
    }
   ],
   "source": [
    "var_1 = 2\n",
    "\n",
    "if (var_1 == 0):\n",
    "    print('El numero es igual a 0')\n",
    "elif (var_1 > 0):\n",
    "    print('El número es mayor a 0')\n",
    "else:\n",
    "    print('El numero es menor a 0')\n",
    "print('fin')"
   ]
  },
  {
   "cell_type": "markdown",
   "metadata": {},
   "source": [
    "2) Crear dos variables y un condicional que informe si son del mismo tipo de dato"
   ]
  },
  {
   "cell_type": "code",
   "execution_count": 8,
   "metadata": {},
   "outputs": [
    {
     "name": "stdout",
     "output_type": "stream",
     "text": [
      "Los datos de ambas variables son de distinto tipo\n",
      "Fin\n"
     ]
    }
   ],
   "source": [
    "var_2 = '10.8'\n",
    "var_3 = 10.5\n",
    "\n",
    "if (type(var_2) == type(var_3)):\n",
    "    print('Los datos de ambas variables son del mismo tipo')\n",
    "else:\n",
    "    print('Los datos de ambas variables son de distinto tipo')\n",
    "print('Fin')"
   ]
  },
  {
   "cell_type": "markdown",
   "metadata": {},
   "source": [
    "3) Para los valores enteros del 1 al 20, imprimir por pantalla si es par o impar"
   ]
  },
  {
   "cell_type": "code",
   "execution_count": 10,
   "metadata": {},
   "outputs": [
    {
     "name": "stdout",
     "output_type": "stream",
     "text": [
      "1  es impar\n",
      "2  es par\n",
      "3  es impar\n",
      "4  es par\n",
      "5  es impar\n",
      "6  es par\n",
      "7  es impar\n",
      "8  es par\n",
      "9  es impar\n",
      "10  es par\n",
      "11  es impar\n",
      "12  es par\n",
      "13  es impar\n",
      "14  es par\n",
      "15  es impar\n",
      "16  es par\n",
      "17  es impar\n",
      "18  es par\n",
      "19  es impar\n",
      "20  es par\n"
     ]
    }
   ],
   "source": [
    "for n in range(1,21):\n",
    "    if (n % 2 == 0):\n",
    "        print(n,' es par')\n",
    "    else:\n",
    "        print(n,' es impar')\n"
   ]
  },
  {
   "cell_type": "markdown",
   "metadata": {},
   "source": [
    "4) En un ciclo for mostrar para los valores entre 0 y 5 el resultado de elevarlo a la potencia igual a 3"
   ]
  },
  {
   "cell_type": "code",
   "execution_count": 12,
   "metadata": {},
   "outputs": [
    {
     "name": "stdout",
     "output_type": "stream",
     "text": [
      "0  elevado al cubo es:  0\n",
      "1  elevado al cubo es:  1\n",
      "2  elevado al cubo es:  8\n",
      "3  elevado al cubo es:  27\n",
      "4  elevado al cubo es:  64\n",
      "5  elevado al cubo es:  125\n"
     ]
    }
   ],
   "source": [
    "for n in range(0,6):\n",
    "    print(n,' elevado al cubo es: ',n**3)\n"
   ]
  },
  {
   "cell_type": "markdown",
   "metadata": {},
   "source": [
    "5) Crear una variable que contenga un número entero y realizar un ciclo for la misma cantidad de ciclos"
   ]
  },
  {
   "cell_type": "code",
   "execution_count": 15,
   "metadata": {},
   "outputs": [
    {
     "name": "stdout",
     "output_type": "stream",
     "text": [
      "0\n",
      "1\n",
      "2\n",
      "3\n"
     ]
    }
   ],
   "source": [
    "var_4 = 4\n",
    "\n",
    "for n in range(0,var_4):\n",
    "    print(n)\n"
   ]
  },
  {
   "cell_type": "markdown",
   "metadata": {},
   "source": [
    "6) Utilizar un ciclo while para realizar el factorial de un número guardado en una variable, sólo si la variable contiene un número entero mayor a 0\n"
   ]
  },
  {
   "cell_type": "code",
   "execution_count": 44,
   "metadata": {},
   "outputs": [
    {
     "name": "stdout",
     "output_type": "stream",
     "text": [
      "El factorial de  5  es igual a  120\n"
     ]
    }
   ],
   "source": [
    "var_5 = 5  \n",
    "i = 1\n",
    "acum = 1\n",
    "factorial = 1\n",
    "\n",
    "if (var_5 > 0):\n",
    "    while (i < var_5):\n",
    "        acum = acum * i\n",
    "        factorial = acum * (i+1)\n",
    "        i += 1\n",
    "    print('El factorial de ',var_5,' es igual a ',factorial)\n",
    "else:\n",
    "    print('El número debe ser mayor de 0')"
   ]
  },
  {
   "cell_type": "code",
   "execution_count": 19,
   "metadata": {},
   "outputs": [
    {
     "name": "stdout",
     "output_type": "stream",
     "text": [
      "24\n"
     ]
    }
   ],
   "source": [
    "numero = 4\n",
    "factorial = 1\n",
    "while(numero > 1):\n",
    "    factorial = numero * factorial\n",
    "    numero = numero - 1\n",
    "print(factorial)"
   ]
  },
  {
   "cell_type": "markdown",
   "metadata": {},
   "source": [
    "7) Crear un ciclo for dentro de un ciclo while"
   ]
  },
  {
   "cell_type": "code",
   "execution_count": 46,
   "metadata": {},
   "outputs": [
    {
     "name": "stdout",
     "output_type": "stream",
     "text": [
      "1   1\n",
      "1   2\n",
      "1   3\n",
      "1   4\n",
      "2   1\n",
      "2   2\n",
      "2   3\n",
      "2   4\n",
      "3   1\n",
      "3   2\n",
      "3   3\n",
      "3   4\n",
      "4   1\n",
      "4   2\n",
      "4   3\n",
      "4   4\n"
     ]
    }
   ],
   "source": [
    "x = 1\n",
    "while (x < 5):\n",
    "    for n in range(1,5):\n",
    "        print(x,' ', n)\n",
    "    x += 1"
   ]
  },
  {
   "cell_type": "markdown",
   "metadata": {},
   "source": [
    "8) Crear un ciclo while dentro de un ciclo for"
   ]
  },
  {
   "cell_type": "code",
   "execution_count": 50,
   "metadata": {},
   "outputs": [
    {
     "name": "stdout",
     "output_type": "stream",
     "text": [
      "1   1\n",
      "1   2\n",
      "1   3\n",
      "1   4\n",
      "2   1\n",
      "2   2\n",
      "2   3\n",
      "2   4\n",
      "3   1\n",
      "3   2\n",
      "3   3\n",
      "3   4\n",
      "4   1\n",
      "4   2\n",
      "4   3\n",
      "4   4\n",
      "fin\n"
     ]
    }
   ],
   "source": [
    "x = 1\n",
    "for n in range (1,5):    \n",
    "    while (x < 5):\n",
    "        print(n,' ',x)\n",
    "        x +=1\n",
    "    x = 1"
   ]
  },
  {
   "cell_type": "markdown",
   "metadata": {},
   "source": [
    "9) Imprimir los números primos existentes entre 0 y 30"
   ]
  },
  {
   "cell_type": "code",
   "execution_count": 33,
   "metadata": {},
   "outputs": [
    {
     "name": "stdout",
     "output_type": "stream",
     "text": [
      "El numero  2  es primo\n",
      "El numero  3  es primo\n",
      "El numero  5  es primo\n",
      "El numero  7  es primo\n",
      "El numero  11  es primo\n",
      "El numero  13  es primo\n",
      "El numero  17  es primo\n",
      "El numero  19  es primo\n",
      "El numero  23  es primo\n",
      "El numero  29  es primo\n",
      "La cantidad de vueltas del bucle es de  256\n"
     ]
    }
   ],
   "source": [
    "cant = 0\n",
    "for n in range(0,31):\n",
    "    a = 1 #Esta variable sirve para recorrer el bucle while y a la vez chequea si 'n' es divisible por algun numero\n",
    "    b = 0 #Esta variable cumple la funcion de contador de veces que 'n' es divisible por 'a'\n",
    "    while (a <= n):\n",
    "        cant += 1\n",
    "        if n % a == 0:\n",
    "            b += 1\n",
    "            if b > 2:\n",
    "                break\n",
    "        a += 1\n",
    "    \n",
    "    #Los numeros primos solo son divisibles por 2 numeros: por 1 y por si mismos, por eso la condición evalua b == 2\n",
    "    #Si 'b' vale mas que 2 significa que se pudo dividir más de 2 veces y por lo tanto ya no sería número primo\n",
    "    if b == 2:  \n",
    "        print('El numero ',n,' es primo')\n",
    "print('La cantidad de vueltas del bucle es de ',cant)"
   ]
  },
  {
   "cell_type": "code",
   "execution_count": 30,
   "metadata": {},
   "outputs": [
    {
     "name": "stdout",
     "output_type": "stream",
     "text": [
      "El número 2 es primo\n",
      "El número 3 es primo\n",
      "El número 5 es primo\n",
      "El número 7 es primo\n",
      "El número 11 es primo\n",
      "El número 13 es primo\n",
      "El número 17 es primo\n",
      "El número 19 es primo\n",
      "El número 23 es primo\n",
      "El número 29 es primo\n",
      "La cantidad total de ciclos es de  406\n"
     ]
    }
   ],
   "source": [
    "cant_ciclos = 0\n",
    "min = 2\n",
    "max = 30\n",
    "for n in range(min, (max + 1)):\n",
    "    primo = True\n",
    "    j = 2\n",
    "    while(j < n):\n",
    "        cant_ciclos += 1\n",
    "        if (n % j == 0):\n",
    "            primo = False\n",
    "        j += 1\n",
    "    if (primo):\n",
    "        print('El número', n, 'es primo')\n",
    "print('La cantidad total de ciclos es de ',cant_ciclos)"
   ]
  },
  {
   "cell_type": "markdown",
   "metadata": {},
   "source": [
    "10) ¿Se puede mejorar el proceso del punto 9? Utilizar las sentencias break y/ó continue para tal fin"
   ]
  },
  {
   "cell_type": "code",
   "execution_count": 31,
   "metadata": {},
   "outputs": [
    {
     "name": "stdout",
     "output_type": "stream",
     "text": [
      "El número 2 es primo\n",
      "El número 3 es primo\n",
      "El número 5 es primo\n",
      "El número 7 es primo\n",
      "El número 11 es primo\n",
      "El número 13 es primo\n",
      "El número 17 es primo\n",
      "El número 19 es primo\n",
      "El número 23 es primo\n",
      "El número 29 es primo\n",
      "La cantidad total de ciclos es de  135\n",
      "Se redujo en un  66.7487684729064 %\n"
     ]
    }
   ],
   "source": [
    "cant_ciclos_break = 0\n",
    "min = 2\n",
    "max = 30\n",
    "for n in range(min, (max + 1)):\n",
    "    primo = True\n",
    "    j = 2\n",
    "    while(j < n):\n",
    "        cant_ciclos_break += 1\n",
    "        if (n % j == 0):\n",
    "            primo = False\n",
    "            break\n",
    "        j += 1\n",
    "    if (primo):\n",
    "        print('El número', n, 'es primo')\n",
    "print('La cantidad total de ciclos es de ',cant_ciclos_break)\n",
    "print('Se redujo en un ',(cant_ciclos-cant_ciclos_break)/cant_ciclos*100,'%')"
   ]
  },
  {
   "cell_type": "markdown",
   "metadata": {},
   "source": [
    "11) En los puntos 9 y 10, se diseño un código que encuentra números primos y además se lo optimizó. ¿Es posible saber en qué medida se optimizó?"
   ]
  },
  {
   "cell_type": "markdown",
   "metadata": {},
   "source": [
    "12) Si la cantidad de números que se evalúa es mayor a treinta, esa optimización crece?"
   ]
  },
  {
   "cell_type": "markdown",
   "metadata": {},
   "source": [
    "13) Aplicando continue, armar un ciclo while que solo imprima los valores divisibles por 12, dentro del rango de números de 100 a 300"
   ]
  },
  {
   "cell_type": "code",
   "execution_count": 2,
   "metadata": {},
   "outputs": [
    {
     "name": "stdout",
     "output_type": "stream",
     "text": [
      "El numero  108  es divisible por 12\n",
      "El numero  120  es divisible por 12\n",
      "El numero  132  es divisible por 12\n",
      "El numero  144  es divisible por 12\n",
      "El numero  156  es divisible por 12\n",
      "El numero  168  es divisible por 12\n",
      "El numero  180  es divisible por 12\n",
      "El numero  192  es divisible por 12\n",
      "El numero  204  es divisible por 12\n",
      "El numero  216  es divisible por 12\n",
      "El numero  228  es divisible por 12\n",
      "El numero  240  es divisible por 12\n",
      "El numero  252  es divisible por 12\n",
      "El numero  264  es divisible por 12\n",
      "El numero  276  es divisible por 12\n",
      "El numero  288  es divisible por 12\n",
      "El numero  300  es divisible por 12\n"
     ]
    }
   ],
   "source": [
    "c = 100\n",
    "while (c <= 300):\n",
    "    if c % 12 == 0:\n",
    "        print('El numero ',c,' es divisible por 12')\n",
    "        \n",
    "    c += 1"
   ]
  },
  {
   "cell_type": "code",
   "execution_count": 34,
   "metadata": {},
   "outputs": [
    {
     "name": "stdout",
     "output_type": "stream",
     "text": [
      "108  es divisible por 12\n",
      "120  es divisible por 12\n",
      "132  es divisible por 12\n",
      "144  es divisible por 12\n",
      "156  es divisible por 12\n",
      "168  es divisible por 12\n",
      "180  es divisible por 12\n",
      "192  es divisible por 12\n",
      "204  es divisible por 12\n",
      "216  es divisible por 12\n",
      "228  es divisible por 12\n",
      "240  es divisible por 12\n",
      "252  es divisible por 12\n",
      "264  es divisible por 12\n",
      "276  es divisible por 12\n",
      "288  es divisible por 12\n",
      "300  es divisible por 12\n"
     ]
    }
   ],
   "source": [
    "n = 99\n",
    "while(n <= 300):\n",
    "    n+=1\n",
    "    if (n % 12 != 0):\n",
    "        continue\n",
    "    print(n, ' es divisible por 12')"
   ]
  },
  {
   "cell_type": "markdown",
   "metadata": {},
   "source": [
    "14) Utilizar la función **input()** que permite hacer ingresos por teclado, para encontrar números primos y dar la opción al usario de buscar el siguiente"
   ]
  },
  {
   "cell_type": "code",
   "execution_count": 16,
   "metadata": {},
   "outputs": [
    {
     "name": "stdout",
     "output_type": "stream",
     "text": [
      "Ingrese un número\n",
      "El numero  6 no es primo\n",
      "Ingrese un número\n",
      "El numero  6 no es primo\n",
      "Ingrese un número\n",
      "El numero  6 no es primo\n",
      "Ingrese un número\n",
      "El numero  6 no es primo\n",
      "Ingrese un número\n",
      "El numero  6 no es primo\n",
      "Ingrese un número\n",
      "El numero  6 no es primo\n",
      "Ingrese un número\n",
      "El numero  7  es primo\n"
     ]
    }
   ],
   "source": [
    "parar = True\n",
    "while parar:\n",
    "    print('Ingrese un número')\n",
    "    n = int(input())\n",
    "    a = 1 \n",
    "    b = 0 \n",
    "    while (a <= n):\n",
    "        if n % a == 0:\n",
    "            b += 1\n",
    "        a += 1\n",
    "        \n",
    "    if b == 2:  \n",
    "        print('El numero ',n,' es primo')\n",
    "        parar = False\n",
    "    else:\n",
    "        print('El numero ',n,'no es primo')"
   ]
  },
  {
   "cell_type": "markdown",
   "metadata": {},
   "source": [
    "15) Crear un ciclo while que encuentre dentro del rango de 100 a 300 el primer número divisible por 3 y además múltiplo de 6\n"
   ]
  },
  {
   "cell_type": "code",
   "execution_count": 17,
   "metadata": {},
   "outputs": [
    {
     "name": "stdout",
     "output_type": "stream",
     "text": [
      "El número  102  es divisible por 3 y 6\n"
     ]
    }
   ],
   "source": [
    "x = 100\n",
    "while (x<=300):\n",
    "    if x%3 == 0 and x%6 == 0:\n",
    "        print('El número ',x,' es divisible por 3 y 6')\n",
    "        break\n",
    "    else:\n",
    "        x += 1"
   ]
  }
 ],
 "metadata": {
  "interpreter": {
   "hash": "2b37ca56ce9f1a7021c709e554de0d0e1270829baea03674788ca1ca911eefa8"
  },
  "kernelspec": {
   "display_name": "Python 3.10.2 64-bit (windows store)",
   "language": "python",
   "name": "python3"
  },
  "language_info": {
   "codemirror_mode": {
    "name": "ipython",
    "version": 3
   },
   "file_extension": ".py",
   "mimetype": "text/x-python",
   "name": "python",
   "nbconvert_exporter": "python",
   "pygments_lexer": "ipython3",
   "version": "3.10.2"
  },
  "orig_nbformat": 4
 },
 "nbformat": 4,
 "nbformat_minor": 2
}
